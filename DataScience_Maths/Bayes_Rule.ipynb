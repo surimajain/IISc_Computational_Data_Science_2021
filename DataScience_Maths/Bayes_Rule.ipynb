{
  "nbformat": 4,
  "nbformat_minor": 0,
  "metadata": {
    "kernelspec": {
      "display_name": "Python 3",
      "language": "python",
      "name": "python3"
    },
    "language_info": {
      "codemirror_mode": {
        "name": "ipython",
        "version": 3
      },
      "file_extension": ".py",
      "mimetype": "text/x-python",
      "name": "python",
      "nbconvert_exporter": "python",
      "pygments_lexer": "ipython3",
      "version": "3.8.5"
    },
    "colab": {
      "name": "Bayes_Rule.ipynb",
      "provenance": [],
      "collapsed_sections": [],
      "include_colab_link": true
    }
  },
  "cells": [
    {
      "cell_type": "markdown",
      "metadata": {
        "id": "view-in-github",
        "colab_type": "text"
      },
      "source": [
        "<a href=\"https://colab.research.google.com/github/surimajain/IISc_Computational_Data_Science_2021/blob/main/DataScience_Maths/Bayes_Rule.ipynb\" target=\"_parent\"><img src=\"https://colab.research.google.com/assets/colab-badge.svg\" alt=\"Open In Colab\"/></a>"
      ]
    },
    {
      "cell_type": "markdown",
      "metadata": {
        "id": "7IfuqulRGTuV"
      },
      "source": [
        "## Information"
      ]
    },
    {
      "cell_type": "markdown",
      "metadata": {
        "id": "i2ruBeghGTuW"
      },
      "source": [
        "**Why we need conditional probability?**\n",
        "\n",
        "The conditional probability is an essential quantity in wide range of domains, including classification, decision theory, prediction, diagnostics, and other similar situations. That is because one typically makes the classification, decision, prediction, etc. based on some evidence. Thus, what one wants to know is the probability of the result given the evidence.\n",
        "\n",
        "**Terminology**\n",
        "\n",
        "The basic terms related to probability are as follows:\n",
        "\n",
        "- **Experiment:** an action where the result is uncertain even though all the possible outcomes related to it is known in advance. \n",
        "- **Random Experiment:** an experiment is said to be random if it has more than one possible outcome.\n",
        "- **Conditional probability:** a measure of the probability of an event occurring, given that another event has already occurred.\n",
        "- **Independent events:** two events are independent if the occurrence of one does not affect the probability of occurrence of the other.\n",
        "- **Conditional independence:** A and B are conditionally independent given C if and only if, given knowledge that C occurs, knowledge of whether A occurs provides no information on the likelihood of B occurring, and knowledge of whether B occurs provides no information on the likelihood of A occurring."
      ]
    },
    {
      "cell_type": "markdown",
      "metadata": {
        "id": "BNLA8HiKxQhc"
      },
      "source": [
        "### Setup Steps:"
      ]
    },
    {
      "cell_type": "markdown",
      "metadata": {
        "id": "vsrOOwsnGTuW"
      },
      "source": [
        "#### Importing required packages"
      ]
    },
    {
      "cell_type": "code",
      "metadata": {
        "id": "ULEBZPdHGTuX"
      },
      "source": [
        "import numpy as np\n",
        "import pandas as pd\n",
        "import matplotlib.pyplot as plt\n",
        "import seaborn as sns            # Advanced visualization\n",
        "sns.set_style('whitegrid')"
      ],
      "execution_count": null,
      "outputs": []
    },
    {
      "cell_type": "markdown",
      "metadata": {
        "id": "gE2NFC3jGTuX"
      },
      "source": [
        "### Conditional Probability"
      ]
    },
    {
      "cell_type": "markdown",
      "metadata": {
        "id": "1jJTilF5GTuX"
      },
      "source": [
        "The conditional probability of an event $A$ in relationship to an event $B$ is the probability that event $A$ occurs given that event $B$ has already occurred. The notation for conditional probability is $P(A|B)$ i.e. the probability of occurrence of event $A$, given that $B$ has already occurred.\n",
        "\n",
        "### $ P(A|B) = \\frac{P(A∩B)}{P(B)} $\n",
        "                    \n",
        "where, $ P(A∩B) $ is probability of event $ A $ and $ B $ occurring together,\n",
        " \n",
        "$ P(B) $ is the probability of observing $ B $.\n",
        "\n",
        "To know more about conditional probability click [here](https://setosa.io/ev/conditional-probability/)."
      ]
    },
    {
      "cell_type": "markdown",
      "metadata": {
        "id": "JxD7za7aGTuY"
      },
      "source": [
        "**Exercise 1:** A card is drawn randomly from a deck of 52 cards. Find the probability of getting a *king* given it is a *red* card."
      ]
    },
    {
      "cell_type": "markdown",
      "metadata": {
        "id": "zu38iepbGTuY"
      },
      "source": [
        "Let, $K$ – represent the event of getting a king card\n",
        "\n",
        "$R$ – represent the event of getting a red card\n",
        "\n",
        "Then the probability of getting a king given it is a red card can be shown as :\n",
        " \n",
        "$    P(K|R)= \\frac{P(K∩R)}{P(R)}  $\n",
        "\n",
        "where,\n",
        "\n",
        "$P(R)$ – represents probability of getting a red card\n",
        "\n",
        "$P(K∩R)$ – represents probability of getting a king and red card simultaneously "
      ]
    },
    {
      "cell_type": "code",
      "metadata": {
        "id": "KD-XTJHIGTuZ",
        "colab": {
          "base_uri": "https://localhost:8080/"
        },
        "outputId": "4ef5233d-dd7b-452c-b0ce-22fa6c4b99c2"
      },
      "source": [
        "P_R = 26/52     # a deck contains half red and half black cards\n",
        "P_K_and_R = 2/52    #   a deck contains only two king cards which are red\n",
        "P_K_given_R = P_K_and_R / P_R\n",
        "print('The probability of getting a king given it is a red card= ', round(P_K_given_R, 4))"
      ],
      "execution_count": 1,
      "outputs": [
        {
          "output_type": "stream",
          "text": [
            "The probability of getting a king given it is a red card=  0.0769\n"
          ],
          "name": "stdout"
        }
      ]
    },
    {
      "cell_type": "markdown",
      "metadata": {
        "id": "hF2_CkmFGTua"
      },
      "source": [
        "### Total Probability Theorem"
      ]
    },
    {
      "cell_type": "markdown",
      "metadata": {
        "id": "txh8jCj7GTua"
      },
      "source": [
        "In probability theory, the law of total probability is a fundamental rule relating marginal probabilities to conditional probabilities. It expresses the total probability of an outcome which can be realized via several distinct events.\n",
        "\n",
        "Let events $ E_1, E_2 . . . E_n $ form partitions of the sample space $ S $ as shown in figure below, where all the events have a non-zero probability of occurrence.\n",
        "\n",
        "![image](https://cdn.iisc.talentsprint.com/CDS/Images/total_probability_theorem.jpg)\n",
        "\n",
        "For any event, $ A $ associated with $ S $, according to the total probability theorem,\n",
        " \n",
        "$ P(A) = P(E_1).P(A|E_1) + P(E_2).P(A|E_2) + P(E_3).P(A|E_3) + ..... + P(E_n).P(A|E_n) $\n",
        "\n",
        "where,\n",
        "\n",
        "$ P(A), P(E_1), ..., P(E_n) $ are the probabilities of observing $ A, E_1, E_2,..., E_n $ respectively\n",
        " \n",
        "$ P(A|E_1) $ is a conditional probability: the likelihood of event $ A $ occurring given that $ E_1 $ has already occurred\n",
        "\n",
        "Note – The law of total probability or total probability theorem is used when you don’t know the probability of an event, \n",
        "       but you know its occurrence under several disjoint scenarios and the probability of each scenario.\n",
        "       \n",
        "To know more about total probability theorem click [here](https://corporatefinanceinstitute.com/resources/knowledge/other/total-probability-rule/)."
      ]
    },
    {
      "cell_type": "markdown",
      "metadata": {
        "id": "YRrCg7QwGTua"
      },
      "source": [
        "**Exercise 2**: Suppose that two factories supply machines to the market. Factory X's machines work for over 5000 hours in 99% of cases, whereas factory Y's machines work for over 5000 hours in 95% of cases . It is known that factory X supplies 60% of the machines available and Y supplies 40% of the machines available. What is the chance that a purchased machine will work for longer than 5000 hours?"
      ]
    },
    {
      "cell_type": "markdown",
      "metadata": {
        "id": "1fAh2dCuGTub"
      },
      "source": [
        "The probability that machines work for over 5000 hours will be represented by the total probability theorem as:\n",
        " \n",
        "$    P(A)= P(B_X)P(A|B_X) + P(B_Y)P(A|B_Y)  $\n",
        "    \n",
        "where,\n",
        "    \n",
        "   $ P(A|B_X) $ is the probability that machine works for over 5000 hours given it is manufactured by X.\n",
        "    \n",
        "   $ P(A|B_Y) $ is the probability that machine works for over 5000 hours given it is manufactured by Y."
      ]
    },
    {
      "cell_type": "code",
      "metadata": {
        "id": "jSOp4aKPGTub"
      },
      "source": [
        "# According to question,\n",
        "P_BX = 0.6\n",
        "P_BY = 0.4\n",
        "P_A_given_BX = 0.99\n",
        "P_A_given_BY = 0.95"
      ],
      "execution_count": null,
      "outputs": []
    },
    {
      "cell_type": "code",
      "metadata": {
        "id": "1IOhpBSJGTub",
        "colab": {
          "base_uri": "https://localhost:8080/"
        },
        "outputId": "56b9dc55-13e6-4bd1-be08-f0347b49cd74"
      },
      "source": [
        "P_A = P_BX * P_A_given_BX + P_BY * P_A_given_BY\n",
        "print('The chance that a purchased machine will work for longer than 5000 hours= ', round(P_A*100, 4) ,'%')"
      ],
      "execution_count": null,
      "outputs": [
        {
          "output_type": "stream",
          "text": [
            "The chance that a purchased machine will work for longer than 5000 hours=  97.4 %\n"
          ],
          "name": "stdout"
        }
      ]
    },
    {
      "cell_type": "markdown",
      "metadata": {
        "id": "qQ7FBPedGTub"
      },
      "source": [
        "Now, suppose we want the percent chance that the machine was manufactured by factory X given it is working for over 5000 hours. This can be seen using Bayes theorem."
      ]
    },
    {
      "cell_type": "code",
      "metadata": {
        "id": "D_OODFqvWRD-"
      },
      "source": [
        ""
      ],
      "execution_count": null,
      "outputs": []
    },
    {
      "cell_type": "markdown",
      "metadata": {
        "id": "0mvotMNzGTuc"
      },
      "source": [
        "### Bayes' Rule"
      ]
    },
    {
      "cell_type": "markdown",
      "metadata": {
        "id": "XwVms-skGTuc"
      },
      "source": [
        "Bayes’ Theorem or Bayes’ Rule is named after Reverend Thomas Bayes. It describes the probability of an event, based on prior knowledge of conditions that might be related to that event. \n",
        "* used to ratethe risk of lending money\n",
        "* revises existing predictions or theories given additional evidence\n",
        "The expression for the same is given by\n",
        "\n",
        "### $ P(A|B) = \\frac{P(B|A).P(A)}{P(B)} $\n",
        "\n",
        "where $A$ and $B$ are events and $P(B)≠ 0$\n",
        " \n",
        "- $P(A|B)$ is a conditional probability: the likelihood of event $A$ occurring given that $B$ is true\n",
        "\n",
        "- $P(B|A)$ is also a conditional probability: the likelihood of event $B$ occurring given that $A$ is true\n",
        "\n",
        "- $P(A)$ and $P(B)$ are the probabilities of observing $A$ and $B$ respectively\n",
        "\n",
        "- $A$ and $B$ must be different events\n",
        "\n",
        "To know more about Bayes rule click [here](https://corporatefinanceinstitute.com/resources/knowledge/other/bayes-theorem/)."
      ]
    },
    {
      "cell_type": "markdown",
      "metadata": {
        "id": "e_X8kY4tGTuc"
      },
      "source": [
        "**Exercise 3**: Suppose that two factories supply machines to the market. Factory X's machines work for over 5000 hours in 99% of cases, whereas factory Y's machines work for over 5000 hours in 95% of cases . It is known that factory X supplies 60% of the machines available and Y supplies 40% of the machines available. What is the chance that a purchased machine is manufactured by factory X given it works for longer than 5000 hours?"
      ]
    },
    {
      "cell_type": "markdown",
      "metadata": {
        "id": "qRgrSoBkGTuc"
      },
      "source": [
        "The above desired probability can be represented by the bayes theorem as:\n",
        " \n",
        "### $    P(B_X|A)= \\frac{P(A|B_X).P(B_X)}{P(A)}  $\n",
        "    \n",
        "where, $ P(B_X|A) $ is the probability that machine is manufactured by factory X given it work for over 5000 hours, and\n",
        "\n",
        "   $ P(A|B_X) $ is the probability that machine works for over 5000 hours given it is manufactured by factory X."
      ]
    },
    {
      "cell_type": "code",
      "metadata": {
        "id": "hTJTiUmYGTud"
      },
      "source": [
        "# According to question,\n",
        "P_BX = 0.6\n",
        "P_BY = 0.4\n",
        "P_A_given_BX = 0.99\n",
        "P_A_given_BY = 0.95\n",
        "\n",
        "# Using total probability theorem\n",
        "P_A = P_BX * P_A_given_BX + P_BY * P_A_given_BY"
      ],
      "execution_count": 1,
      "outputs": []
    },
    {
      "cell_type": "code",
      "metadata": {
        "id": "9QiEYf0CGTud",
        "colab": {
          "base_uri": "https://localhost:8080/"
        },
        "outputId": "12c16a33-8c78-40f9-e36a-153525e8bb52"
      },
      "source": [
        "P_BX_given_A = P_A_given_BX * P_BX / P_A\n",
        "print('The chance that machine is manufactured by factory X given it work for longer than 5000 hours= ', round(P_BX_given_A*100, 2), '%')"
      ],
      "execution_count": 2,
      "outputs": [
        {
          "output_type": "stream",
          "text": [
            "The chance that machine is manufactured by factory X given it work for longer than 5000 hours=  60.99 %\n"
          ],
          "name": "stdout"
        }
      ]
    },
    {
      "cell_type": "markdown",
      "metadata": {
        "id": "zXt6h4EbGTud"
      },
      "source": [
        "### Independence"
      ]
    },
    {
      "cell_type": "markdown",
      "metadata": {
        "id": "tX5VjzrCGTue"
      },
      "source": [
        "Two events are independent if the occurrence of one does not affect the probability of occurrence of the other.\n",
        "Independent random variables- Two random variables X and Y are said to be statistically independent if and only if\n",
        "\n",
        "$ P(X,Y) = P(X)P(Y) $\n",
        "\n",
        "where, $ P(X,Y) $ is the joint probability of X and Y\n",
        "\n",
        "Also, independence is equivalent to saying:  $ P(Y|X) = P(Y)$  or  $ P(X|Y) = P(X) $"
      ]
    },
    {
      "cell_type": "markdown",
      "metadata": {
        "id": "F2uKp-EvGTue"
      },
      "source": [
        "**Exercise 4**: Show that getting number of heads in a coin toss and rolling a die are two independent events or not?\n",
        "\n",
        "Let X, Y denotes the events of getting number of heads in a coin toss and getting an even number in rolling a die respectively.\n",
        "\n",
        "Possible outcomes of X are 1 and 0. Similarly, for Y are 1, 2, 3, 4, 5 and 6.\n",
        "\n",
        "Now if two events occur simultaneously then possible outcomes are (1,1), (1,2),..,(1,6), (0,1), (0,2)..and (0,6)."
      ]
    },
    {
      "cell_type": "code",
      "metadata": {
        "id": "W7AbwgmSGTuf"
      },
      "source": [
        "P_X_Y = 3/12   # P(X=1, Y= an even number)   {(1,2), (1,4), (1,6)}\n",
        "\n",
        "P_X = 1/2   # P(X=1)  \n",
        "P_Y = 3/6   # P(Y= an even number)"
      ],
      "execution_count": null,
      "outputs": []
    },
    {
      "cell_type": "code",
      "metadata": {
        "id": "T6y79AZAGTuf",
        "colab": {
          "base_uri": "https://localhost:8080/"
        },
        "outputId": "8ebb9e4a-15ec-47a3-a2c5-e9c3d0ca7055"
      },
      "source": [
        "# For independence P(X,Y) = P(X)P(Y)\n",
        "P_X_Y == P_X*P_Y"
      ],
      "execution_count": null,
      "outputs": [
        {
          "output_type": "execute_result",
          "data": {
            "text/plain": [
              "True"
            ]
          },
          "metadata": {
            "tags": []
          },
          "execution_count": 16
        }
      ]
    },
    {
      "cell_type": "markdown",
      "metadata": {
        "id": "sUkRvdCMGTug"
      },
      "source": [
        "In above case X and Y are proved to be independent.\n",
        "Now if a third event is occur, then their dependence can be seen through conditional independence."
      ]
    },
    {
      "cell_type": "markdown",
      "metadata": {
        "id": "WcNr5RjYGTuh"
      },
      "source": [
        "### Conditional independence"
      ]
    },
    {
      "cell_type": "markdown",
      "metadata": {
        "id": "DK5U2GvEGTuh"
      },
      "source": [
        "Two random variables X and Y are said to be independent given Z if and only if:\n",
        "\n",
        "$ P(X,Y|Z) = P(X|Z)P(Y|Z) $\n",
        "\n",
        "where, $ P(X,Y|Z) $ is the joint probability of X and Y given Z has occurred.\n",
        "\n",
        "To know more about conditional independence click [here](https://www.probabilitycourse.com/chapter1/1_4_4_conditional_independence.php)."
      ]
    },
    {
      "cell_type": "markdown",
      "metadata": {
        "id": "_hA9QafXGTui"
      },
      "source": [
        "**Exercise 5**: Show that getting number of heads in a coin toss and rolling a die are two independent events or not given a king is drawn from a deck of cards?\n",
        "\n",
        "Let X, Y, Z denotes the events of getting number of heads in a coin toss, getting an even number in rolling a die and getting a king from a card deck respectively.\n",
        "\n",
        "Possible outcomes of X are 1 and 0. Similarly, for Y are 1, 2, 3, 4, 5 and 6.\n",
        "\n",
        "Now if two events occur simultaneously then possible outcomes are (1,1), (1,2),..,(1,6), (0,1), (0,2)..and (0,6)."
      ]
    },
    {
      "cell_type": "code",
      "metadata": {
        "id": "Vo7HTky_GTui"
      },
      "source": [
        "# Getting a king from a deck doesn't change the outcomes of coin toss and rolling a die\n",
        "P_X_Y_given_Z = 3/12   # P(X=1, Y= an even number)   {(1,2), (1,4), (1,6)}\n",
        "\n",
        "P_X_given_Z = 1/2   # P(X=1)  \n",
        "P_Y_given_Z = 3/6   # P(Y= an even number)"
      ],
      "execution_count": null,
      "outputs": []
    },
    {
      "cell_type": "code",
      "metadata": {
        "id": "RuDURCJGGTui",
        "colab": {
          "base_uri": "https://localhost:8080/"
        },
        "outputId": "09a82d69-20a0-44d8-ed84-b84c7a2b91f6"
      },
      "source": [
        "# For independence P(X,Y) = P(X)P(Y)\n",
        "P_X_Y_given_Z == P_X_given_Z * P_Y_given_Z"
      ],
      "execution_count": null,
      "outputs": [
        {
          "output_type": "execute_result",
          "data": {
            "text/plain": [
              "True"
            ]
          },
          "metadata": {
            "tags": []
          },
          "execution_count": 18
        }
      ]
    },
    {
      "cell_type": "markdown",
      "metadata": {
        "id": "UnKxrHqLGTuj"
      },
      "source": [
        "Therefore, X and Y are independent as well as conditionally independent for Z denoted as getting a king from a deck. "
      ]
    },
    {
      "cell_type": "markdown",
      "metadata": {
        "id": "VHfHdGCP_n6Y"
      },
      "source": [
        "### Please answer the questions below to complete the experiment:\n",
        "\n",
        "\n"
      ]
    },
    {
      "cell_type": "code",
      "metadata": {
        "id": "VgSwVENIPcM6"
      },
      "source": [
        "# @title A spam filter is designed by looking at commonly occurring phrases in spam. Suppose that 90% of email is spam. In 15% of the spam emails, the phrase “free money” is used, whereas this phrase is only used in 5% of non-spam emails. A new email has just arrived, which does mention “free money”. What is the probability that it is spam? { run: \"auto\", form-width: \"500px\", display-mode: \"form\" }\n",
        "Answer = \"0.9642\" #@param [\"\",\"0.8765\",\"0.7956\", \"0.9642\"]"
      ],
      "execution_count": null,
      "outputs": []
    }
  ]
}